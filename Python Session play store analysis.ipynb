{
 "cells": [
  {
   "cell_type": "code",
   "execution_count": 1,
   "id": "506117d5",
   "metadata": {},
   "outputs": [],
   "source": [
    "n1 = 10\n",
    "n2 = 100"
   ]
  },
  {
   "cell_type": "code",
   "execution_count": 3,
   "id": "c6c82066",
   "metadata": {},
   "outputs": [
    {
     "data": {
      "text/plain": [
       "7"
      ]
     },
     "execution_count": 3,
     "metadata": {},
     "output_type": "execute_result"
    }
   ],
   "source": [
    "3+4"
   ]
  },
  {
   "cell_type": "code",
   "execution_count": 5,
   "id": "ce22a9f0",
   "metadata": {},
   "outputs": [],
   "source": [
    "name = 'Peter Parker'"
   ]
  },
  {
   "cell_type": "code",
   "execution_count": 6,
   "id": "b9384a37",
   "metadata": {},
   "outputs": [
    {
     "name": "stdout",
     "output_type": "stream",
     "text": [
      "Hi Peter Parker\n"
     ]
    }
   ],
   "source": [
    "print(\"Hi\", name)"
   ]
  },
  {
   "cell_type": "code",
   "execution_count": 37,
   "id": "ab08d764",
   "metadata": {},
   "outputs": [],
   "source": [
    "first_name = \"Chandler\"\n",
    "\n",
    "last_name = 'Bing'"
   ]
  },
  {
   "cell_type": "code",
   "execution_count": 38,
   "id": "3cfaf8dd",
   "metadata": {},
   "outputs": [
    {
     "ename": "TypeError",
     "evalue": "can only concatenate str (not \"int\") to str",
     "output_type": "error",
     "traceback": [
      "\u001b[1;31m---------------------------------------------------------------------------\u001b[0m",
      "\u001b[1;31mTypeError\u001b[0m                                 Traceback (most recent call last)",
      "\u001b[1;32m<ipython-input-38-e4030a19b7be>\u001b[0m in \u001b[0;36m<module>\u001b[1;34m\u001b[0m\n\u001b[1;32m----> 1\u001b[1;33m \u001b[0mfull\u001b[0m \u001b[1;33m=\u001b[0m \u001b[0mlast_name\u001b[0m \u001b[1;33m+\u001b[0m \u001b[1;34m' '\u001b[0m \u001b[1;33m+\u001b[0m \u001b[0mfirst_name\u001b[0m \u001b[1;33m+\u001b[0m \u001b[1;36m3\u001b[0m\u001b[1;33m+\u001b[0m\u001b[1;36m4\u001b[0m\u001b[1;33m\u001b[0m\u001b[1;33m\u001b[0m\u001b[0m\n\u001b[0m",
      "\u001b[1;31mTypeError\u001b[0m: can only concatenate str (not \"int\") to str"
     ]
    }
   ],
   "source": [
    "full = last_name + ' ' + first_name + 3+4"
   ]
  },
  {
   "cell_type": "code",
   "execution_count": 39,
   "id": "393c0adb",
   "metadata": {},
   "outputs": [
    {
     "ename": "NameError",
     "evalue": "name 'full' is not defined",
     "output_type": "error",
     "traceback": [
      "\u001b[1;31m---------------------------------------------------------------------------\u001b[0m",
      "\u001b[1;31mNameError\u001b[0m                                 Traceback (most recent call last)",
      "\u001b[1;32m<ipython-input-39-b0f0d85e5a7a>\u001b[0m in \u001b[0;36m<module>\u001b[1;34m\u001b[0m\n\u001b[1;32m----> 1\u001b[1;33m \u001b[0mprint\u001b[0m\u001b[1;33m(\u001b[0m\u001b[0mfull\u001b[0m\u001b[1;33m)\u001b[0m\u001b[1;33m\u001b[0m\u001b[1;33m\u001b[0m\u001b[0m\n\u001b[0m",
      "\u001b[1;31mNameError\u001b[0m: name 'full' is not defined"
     ]
    }
   ],
   "source": [
    "print(full)"
   ]
  },
  {
   "cell_type": "code",
   "execution_count": 40,
   "id": "5106f63a",
   "metadata": {},
   "outputs": [],
   "source": [
    "fullname = f\"{first_name} {last_name} {3+4} 7\""
   ]
  },
  {
   "cell_type": "code",
   "execution_count": 41,
   "id": "8ed81a9c",
   "metadata": {},
   "outputs": [
    {
     "name": "stdout",
     "output_type": "stream",
     "text": [
      "Chandler Bing 7 7\n"
     ]
    }
   ],
   "source": [
    "print(fullname)"
   ]
  },
  {
   "cell_type": "code",
   "execution_count": 42,
   "id": "91ee4465",
   "metadata": {},
   "outputs": [
    {
     "data": {
      "text/plain": [
       "'CHANDLER'"
      ]
     },
     "execution_count": 42,
     "metadata": {},
     "output_type": "execute_result"
    }
   ],
   "source": [
    "first_name.upper()"
   ]
  },
  {
   "cell_type": "code",
   "execution_count": 43,
   "id": "3e656552",
   "metadata": {},
   "outputs": [
    {
     "data": {
      "text/plain": [
       "'chandler'"
      ]
     },
     "execution_count": 43,
     "metadata": {},
     "output_type": "execute_result"
    }
   ],
   "source": [
    "first_name.lower()"
   ]
  },
  {
   "cell_type": "code",
   "execution_count": 44,
   "id": "2e064df6",
   "metadata": {},
   "outputs": [
    {
     "data": {
      "text/plain": [
       "'Chandler'"
      ]
     },
     "execution_count": 44,
     "metadata": {},
     "output_type": "execute_result"
    }
   ],
   "source": [
    "first_name.title()"
   ]
  },
  {
   "cell_type": "code",
   "execution_count": 45,
   "id": "2e7f8f18",
   "metadata": {},
   "outputs": [
    {
     "data": {
      "text/plain": [
       "'Chandler Bing 7 7'"
      ]
     },
     "execution_count": 45,
     "metadata": {},
     "output_type": "execute_result"
    }
   ],
   "source": [
    "fullname.strip()"
   ]
  },
  {
   "cell_type": "code",
   "execution_count": 46,
   "id": "04d53110",
   "metadata": {},
   "outputs": [
    {
     "data": {
      "text/plain": [
       "'Chandler Ting 7 7'"
      ]
     },
     "execution_count": 46,
     "metadata": {},
     "output_type": "execute_result"
    }
   ],
   "source": [
    "fullname.replace(\"B\", 'T')"
   ]
  },
  {
   "cell_type": "code",
   "execution_count": 47,
   "id": "728efdc6",
   "metadata": {},
   "outputs": [
    {
     "data": {
      "text/plain": [
       "'Chandler Bing 7 7'"
      ]
     },
     "execution_count": 47,
     "metadata": {},
     "output_type": "execute_result"
    }
   ],
   "source": [
    "fullname"
   ]
  },
  {
   "cell_type": "code",
   "execution_count": 48,
   "id": "a5e17e8a",
   "metadata": {},
   "outputs": [
    {
     "data": {
      "text/plain": [
       "True"
      ]
     },
     "execution_count": 48,
     "metadata": {},
     "output_type": "execute_result"
    }
   ],
   "source": [
    "'Bing' in fullname"
   ]
  },
  {
   "cell_type": "code",
   "execution_count": 49,
   "id": "f83464ec",
   "metadata": {},
   "outputs": [
    {
     "data": {
      "text/plain": [
       "str"
      ]
     },
     "execution_count": 49,
     "metadata": {},
     "output_type": "execute_result"
    }
   ],
   "source": [
    "type(fullname)"
   ]
  },
  {
   "cell_type": "code",
   "execution_count": 50,
   "id": "07515e0e",
   "metadata": {},
   "outputs": [
    {
     "data": {
      "text/plain": [
       "int"
      ]
     },
     "execution_count": 50,
     "metadata": {},
     "output_type": "execute_result"
    }
   ],
   "source": [
    "type(n1)"
   ]
  },
  {
   "cell_type": "code",
   "execution_count": 51,
   "id": "8a0bd46d",
   "metadata": {},
   "outputs": [],
   "source": [
    "boolean_variable = False"
   ]
  },
  {
   "cell_type": "code",
   "execution_count": 52,
   "id": "d99781bc",
   "metadata": {},
   "outputs": [
    {
     "data": {
      "text/plain": [
       "bool"
      ]
     },
     "execution_count": 52,
     "metadata": {},
     "output_type": "execute_result"
    }
   ],
   "source": [
    "type(boolean_variable)"
   ]
  },
  {
   "cell_type": "code",
   "execution_count": 53,
   "id": "e5535513",
   "metadata": {},
   "outputs": [
    {
     "data": {
      "text/plain": [
       "False"
      ]
     },
     "execution_count": 53,
     "metadata": {},
     "output_type": "execute_result"
    }
   ],
   "source": [
    "7 < 5"
   ]
  },
  {
   "cell_type": "code",
   "execution_count": 56,
   "id": "e659fa15",
   "metadata": {},
   "outputs": [
    {
     "data": {
      "text/plain": [
       "True"
      ]
     },
     "execution_count": 56,
     "metadata": {},
     "output_type": "execute_result"
    }
   ],
   "source": []
  },
  {
   "cell_type": "code",
   "execution_count": 54,
   "id": "83789131",
   "metadata": {},
   "outputs": [
    {
     "data": {
      "text/plain": [
       "14"
      ]
     },
     "execution_count": 54,
     "metadata": {},
     "output_type": "execute_result"
    }
   ],
   "source": [
    "7 + 7"
   ]
  },
  {
   "cell_type": "code",
   "execution_count": 55,
   "id": "a7aac8bf",
   "metadata": {},
   "outputs": [
    {
     "data": {
      "text/plain": [
       "70"
      ]
     },
     "execution_count": 55,
     "metadata": {},
     "output_type": "execute_result"
    }
   ],
   "source": [
    "7 * 10"
   ]
  },
  {
   "cell_type": "code",
   "execution_count": 58,
   "id": "d9421c70",
   "metadata": {},
   "outputs": [
    {
     "data": {
      "text/plain": [
       "2.3333333333333335"
      ]
     },
     "execution_count": 58,
     "metadata": {},
     "output_type": "execute_result"
    }
   ],
   "source": [
    "7 / 3"
   ]
  },
  {
   "cell_type": "code",
   "execution_count": 59,
   "id": "4cb7a53d",
   "metadata": {},
   "outputs": [
    {
     "data": {
      "text/plain": [
       "2"
      ]
     },
     "execution_count": 59,
     "metadata": {},
     "output_type": "execute_result"
    }
   ],
   "source": [
    "7 // 3"
   ]
  },
  {
   "cell_type": "code",
   "execution_count": 57,
   "id": "b3d0d92f",
   "metadata": {},
   "outputs": [
    {
     "data": {
      "text/plain": [
       "1"
      ]
     },
     "execution_count": 57,
     "metadata": {},
     "output_type": "execute_result"
    }
   ],
   "source": [
    "7 % 3"
   ]
  },
  {
   "cell_type": "code",
   "execution_count": 59,
   "id": "be8339ed",
   "metadata": {},
   "outputs": [
    {
     "data": {
      "text/plain": [
       "8"
      ]
     },
     "execution_count": 59,
     "metadata": {},
     "output_type": "execute_result"
    }
   ],
   "source": [
    "2 ** 3"
   ]
  },
  {
   "cell_type": "code",
   "execution_count": 67,
   "id": "d900dde0",
   "metadata": {},
   "outputs": [
    {
     "data": {
      "text/plain": [
       "float"
      ]
     },
     "execution_count": 67,
     "metadata": {},
     "output_type": "execute_result"
    }
   ],
   "source": [
    "type(9/5)"
   ]
  },
  {
   "cell_type": "code",
   "execution_count": 66,
   "id": "586e9186",
   "metadata": {},
   "outputs": [],
   "source": [
    "num = 21"
   ]
  },
  {
   "cell_type": "code",
   "execution_count": 68,
   "id": "473ba74b",
   "metadata": {},
   "outputs": [
    {
     "data": {
      "text/plain": [
       "27"
      ]
     },
     "execution_count": 68,
     "metadata": {},
     "output_type": "execute_result"
    }
   ],
   "source": [
    "num += 3\n",
    "num"
   ]
  },
  {
   "cell_type": "code",
   "execution_count": 78,
   "id": "0d39a815",
   "metadata": {},
   "outputs": [],
   "source": [
    "num *= 3"
   ]
  },
  {
   "cell_type": "code",
   "execution_count": 72,
   "id": "452266d2",
   "metadata": {},
   "outputs": [
    {
     "name": "stdout",
     "output_type": "stream",
     "text": [
      "8\n"
     ]
    }
   ],
   "source": [
    "print(round(7.5))"
   ]
  },
  {
   "cell_type": "code",
   "execution_count": 74,
   "id": "be2197a4",
   "metadata": {},
   "outputs": [
    {
     "name": "stdout",
     "output_type": "stream",
     "text": [
      "7\n"
     ]
    }
   ],
   "source": [
    "print(abs(-7))"
   ]
  },
  {
   "cell_type": "code",
   "execution_count": 77,
   "id": "4a2744c2",
   "metadata": {},
   "outputs": [],
   "source": [
    "li = [1, 2, 3, 4, 5, 6, 7]"
   ]
  },
  {
   "cell_type": "code",
   "execution_count": 78,
   "id": "25390309",
   "metadata": {},
   "outputs": [
    {
     "data": {
      "text/plain": [
       "list"
      ]
     },
     "execution_count": 78,
     "metadata": {},
     "output_type": "execute_result"
    }
   ],
   "source": [
    "type(li)"
   ]
  },
  {
   "cell_type": "code",
   "execution_count": 79,
   "id": "baa5ea1a",
   "metadata": {},
   "outputs": [
    {
     "data": {
      "text/plain": [
       "['a', 'b', 'c']"
      ]
     },
     "execution_count": 79,
     "metadata": {},
     "output_type": "execute_result"
    }
   ],
   "source": [
    "letters = ['a', 'b', 'c']\n",
    "\n",
    "letters"
   ]
  },
  {
   "cell_type": "code",
   "execution_count": 80,
   "id": "e2ebd43d",
   "metadata": {},
   "outputs": [],
   "source": [
    "list_of_lists = [[1, 2, 3], [4,5,6]]"
   ]
  },
  {
   "cell_type": "code",
   "execution_count": 81,
   "id": "731993a0",
   "metadata": {},
   "outputs": [
    {
     "data": {
      "text/plain": [
       "[[1, 2, 3], [4, 5, 6]]"
      ]
     },
     "execution_count": 81,
     "metadata": {},
     "output_type": "execute_result"
    }
   ],
   "source": [
    "list_of_lists"
   ]
  },
  {
   "cell_type": "code",
   "execution_count": 82,
   "id": "2f682009",
   "metadata": {},
   "outputs": [
    {
     "data": {
      "text/plain": [
       "[0, 0, 0, 0, 0, 0, 0, 0, 0, 0]"
      ]
     },
     "execution_count": 82,
     "metadata": {},
     "output_type": "execute_result"
    }
   ],
   "source": [
    "list_of_0s = [0] * 10\n",
    "\n",
    "\n",
    "list_of_0s"
   ]
  },
  {
   "cell_type": "code",
   "execution_count": 83,
   "id": "92118367",
   "metadata": {},
   "outputs": [
    {
     "data": {
      "text/plain": [
       "[1,\n",
       " 2,\n",
       " 3,\n",
       " 4,\n",
       " 5,\n",
       " 6,\n",
       " 7,\n",
       " 'a',\n",
       " 'b',\n",
       " 'c',\n",
       " [1, 2, 3],\n",
       " [4, 5, 6],\n",
       " 0,\n",
       " 0,\n",
       " 0,\n",
       " 0,\n",
       " 0,\n",
       " 0,\n",
       " 0,\n",
       " 0,\n",
       " 0,\n",
       " 0]"
      ]
     },
     "execution_count": 83,
     "metadata": {},
     "output_type": "execute_result"
    }
   ],
   "source": [
    "all_lists = li + letters + list_of_lists + list_of_0s\n",
    "\n",
    "all_lists"
   ]
  },
  {
   "cell_type": "code",
   "execution_count": 84,
   "id": "f399eb8a",
   "metadata": {},
   "outputs": [
    {
     "data": {
      "text/plain": [
       "[0, 1, 2, 3, 4, 5, 6, 7, 8, 9]"
      ]
     },
     "execution_count": 84,
     "metadata": {},
     "output_type": "execute_result"
    }
   ],
   "source": [
    "numbers = list(range(10))\n",
    "\n",
    "numbers"
   ]
  },
  {
   "cell_type": "code",
   "execution_count": 87,
   "id": "4d9c20f6",
   "metadata": {},
   "outputs": [
    {
     "name": "stdout",
     "output_type": "stream",
     "text": [
      "[0, 4, 8]\n"
     ]
    }
   ],
   "source": [
    "print(numbers[::4])"
   ]
  },
  {
   "cell_type": "code",
   "execution_count": 113,
   "id": "1de0197c",
   "metadata": {},
   "outputs": [
    {
     "name": "stdout",
     "output_type": "stream",
     "text": [
      "['P', 'r', 'a', 't', 'i', 'k']\n"
     ]
    }
   ],
   "source": [
    "print(list('Pratik'))"
   ]
  },
  {
   "cell_type": "code",
   "execution_count": 91,
   "id": "b3a1d7c1",
   "metadata": {},
   "outputs": [],
   "source": [
    "friends = ['Ross', 'Chandler', 'Rachel', 'Monica', 'Phoebe', 'Joey']"
   ]
  },
  {
   "cell_type": "code",
   "execution_count": 92,
   "id": "ec2eb38b",
   "metadata": {},
   "outputs": [
    {
     "data": {
      "text/plain": [
       "['Ross', 'Chandler', 'Rachel', 'Monica']"
      ]
     },
     "execution_count": 92,
     "metadata": {},
     "output_type": "execute_result"
    }
   ],
   "source": [
    "friends[0:4]"
   ]
  },
  {
   "cell_type": "code",
   "execution_count": 93,
   "id": "1e9ad270",
   "metadata": {},
   "outputs": [
    {
     "data": {
      "text/plain": [
       "['Ross', 'Chandler', 'Rachel', 'Monica', 'Phoebe', 'Joey']"
      ]
     },
     "execution_count": 93,
     "metadata": {},
     "output_type": "execute_result"
    }
   ],
   "source": [
    "friends[0:]"
   ]
  },
  {
   "cell_type": "code",
   "execution_count": 94,
   "id": "f90de6ea",
   "metadata": {},
   "outputs": [
    {
     "data": {
      "text/plain": [
       "['Ross', 'Chandler', 'Rachel', 'Monica', 'Phoebe', 'Joey']"
      ]
     },
     "execution_count": 94,
     "metadata": {},
     "output_type": "execute_result"
    }
   ],
   "source": [
    "friends[:]"
   ]
  },
  {
   "cell_type": "code",
   "execution_count": 95,
   "id": "ab289ab7",
   "metadata": {},
   "outputs": [
    {
     "name": "stdout",
     "output_type": "stream",
     "text": [
      "2\n"
     ]
    }
   ],
   "source": [
    "print(friends.index('Rachel'))"
   ]
  },
  {
   "cell_type": "code",
   "execution_count": 152,
   "id": "9fae2d0a",
   "metadata": {},
   "outputs": [],
   "source": [
    "temperature = 50"
   ]
  },
  {
   "cell_type": "code",
   "execution_count": 154,
   "id": "a3e6d35a",
   "metadata": {},
   "outputs": [
    {
     "ename": "SyntaxError",
     "evalue": "invalid syntax (<ipython-input-154-2b7bdbcfec8d>, line 3)",
     "output_type": "error",
     "traceback": [
      "\u001b[1;36m  File \u001b[1;32m\"<ipython-input-154-2b7bdbcfec8d>\"\u001b[1;36m, line \u001b[1;32m3\u001b[0m\n\u001b[1;33m    else if temperature < 30:\u001b[0m\n\u001b[1;37m         ^\u001b[0m\n\u001b[1;31mSyntaxError\u001b[0m\u001b[1;31m:\u001b[0m invalid syntax\n"
     ]
    }
   ],
   "source": [
    "if temperature < 10:\n",
    "    print(\"It is cold\")\n",
    "elif temperature < 30:\n",
    "    print(\"It is normal\")\n",
    "elif temperature < 50:\n",
    "    print(\"It is normal\")\n",
    "elif temperature < 70:\n",
    "    print(\"It is normal\")\n",
    "else:\n",
    "    print(\"It is hot\")"
   ]
  },
  {
   "cell_type": "code",
   "execution_count": 117,
   "id": "fcfd7017",
   "metadata": {},
   "outputs": [
    {
     "name": "stdout",
     "output_type": "stream",
     "text": [
      "Else condition is executed or satisfied\n"
     ]
    }
   ],
   "source": [
    "n1 = 100\n",
    "\n",
    "if n1 <= 10:\n",
    "    print(\"If condition satisfied\")\n",
    "else:\n",
    "    print(\"Else condition is executed or satisfied\")"
   ]
  },
  {
   "cell_type": "code",
   "execution_count": 123,
   "id": "6a58b772",
   "metadata": {
    "scrolled": true
   },
   "outputs": [
    {
     "name": "stdout",
     "output_type": "stream",
     "text": [
      "Else condition is executed or satisfied\n"
     ]
    }
   ],
   "source": [
    "\n",
    "if False:\n",
    "    print(\"If condition satisfied\")\n",
    "else:\n",
    "    print(\"Else condition is executed or satisfied\")"
   ]
  },
  {
   "cell_type": "code",
   "execution_count": 146,
   "id": "ab75f95a",
   "metadata": {},
   "outputs": [],
   "source": [
    "funny = 0 * 0"
   ]
  },
  {
   "cell_type": "code",
   "execution_count": 147,
   "id": "1737d4f2",
   "metadata": {},
   "outputs": [
    {
     "name": "stdout",
     "output_type": "stream",
     "text": [
      "Else condition is executed or satisfied\n"
     ]
    }
   ],
   "source": [
    "\n",
    "if funny:\n",
    "    print(\"If condition satisfied\")\n",
    "else:\n",
    "    print(\"Else condition is executed or satisfied\")"
   ]
  },
  {
   "cell_type": "code",
   "execution_count": 178,
   "id": "46f42f9f",
   "metadata": {},
   "outputs": [
    {
     "name": "stdout",
     "output_type": "stream",
     "text": [
      "n1 is lesser than 10\n",
      "This will always execute no matter the condition\n"
     ]
    }
   ],
   "source": [
    "n1 = 1\n",
    "if n1 <= 10:\n",
    "    print(\"n1 is lesser than 10\")\n",
    "else:   \n",
    "    print(\"n1 is greater than 10\")\n",
    "    \n",
    "print(\"This will always execute no matter the condition\")"
   ]
  },
  {
   "cell_type": "code",
   "execution_count": 182,
   "id": "2f9b7e09",
   "metadata": {},
   "outputs": [
    {
     "name": "stdout",
     "output_type": "stream",
     "text": [
      "Can not drive legally\n"
     ]
    }
   ],
   "source": [
    "age = 10\n",
    "\n",
    "\n",
    "if age >= 18:\n",
    "    message = \"Can drive legally\"\n",
    "else:\n",
    "    message = \"Can not drive legally\"\n",
    "   \n",
    "\n",
    "print(message)"
   ]
  },
  {
   "cell_type": "code",
   "execution_count": 184,
   "id": "6988d9f3",
   "metadata": {},
   "outputs": [
    {
     "name": "stdout",
     "output_type": "stream",
     "text": [
      "Can drive legally\n"
     ]
    }
   ],
   "source": [
    "age = 20\n",
    "message = 'Can drive legally' if age >=18 else \"Can not drive legally\"\n",
    "\n",
    "print(message)"
   ]
  },
  {
   "cell_type": "code",
   "execution_count": 215,
   "id": "9711000c",
   "metadata": {},
   "outputs": [
    {
     "name": "stdout",
     "output_type": "stream",
     "text": [
      "Movie was bad\n"
     ]
    }
   ],
   "source": [
    "funny = \"Yes\"\n",
    "good_story = True\n",
    "\n",
    "\n",
    "if funny == 'YNO':\n",
    "    print(\"Movie was good\")\n",
    "else:\n",
    "    print(\"Movie was bad\")"
   ]
  },
  {
   "cell_type": "code",
   "execution_count": 209,
   "id": "ab920e23",
   "metadata": {},
   "outputs": [
    {
     "name": "stdout",
     "output_type": "stream",
     "text": [
      "Adult\n"
     ]
    }
   ],
   "source": [
    "if age >= 18 and age < 40:\n",
    "    print(\"Adult\")"
   ]
  },
  {
   "cell_type": "code",
   "execution_count": 210,
   "id": "d9b9ff53",
   "metadata": {},
   "outputs": [
    {
     "name": "stdout",
     "output_type": "stream",
     "text": [
      "Adult\n"
     ]
    }
   ],
   "source": [
    "if 18 <= age < 40:\n",
    "    print(\"Adult\")"
   ]
  },
  {
   "cell_type": "code",
   "execution_count": 216,
   "id": "5450fa0f",
   "metadata": {},
   "outputs": [
    {
     "name": "stdout",
     "output_type": "stream",
     "text": [
      "False\n"
     ]
    }
   ],
   "source": [
    "print(True == 7)"
   ]
  },
  {
   "cell_type": "code",
   "execution_count": 217,
   "id": "957a40cb",
   "metadata": {},
   "outputs": [
    {
     "name": "stdout",
     "output_type": "stream",
     "text": [
      "False\n"
     ]
    }
   ],
   "source": [
    "print(\"\" == 7)"
   ]
  },
  {
   "cell_type": "code",
   "execution_count": 218,
   "id": "2968f4d6",
   "metadata": {},
   "outputs": [
    {
     "name": "stdout",
     "output_type": "stream",
     "text": [
      "True\n"
     ]
    }
   ],
   "source": [
    "print(7.0 == 7)"
   ]
  },
  {
   "cell_type": "code",
   "execution_count": 222,
   "id": "97753b00",
   "metadata": {},
   "outputs": [
    {
     "name": "stdout",
     "output_type": "stream",
     "text": [
      "False\n"
     ]
    },
    {
     "name": "stderr",
     "output_type": "stream",
     "text": [
      "<>:1: SyntaxWarning: \"is\" with a literal. Did you mean \"==\"?\n",
      "<>:1: SyntaxWarning: \"is\" with a literal. Did you mean \"==\"?\n",
      "<ipython-input-222-ac88aadf1f3b>:1: SyntaxWarning: \"is\" with a literal. Did you mean \"==\"?\n",
      "  print(7 is True)\n"
     ]
    }
   ],
   "source": [
    "print(7 is True)"
   ]
  },
  {
   "cell_type": "code",
   "execution_count": 224,
   "id": "34616995",
   "metadata": {},
   "outputs": [],
   "source": [
    "firstNameOfPerson = 'Pratik'"
   ]
  },
  {
   "cell_type": "code",
   "execution_count": 29,
   "id": "4b6883f6",
   "metadata": {},
   "outputs": [
    {
     "name": "stdout",
     "output_type": "stream",
     "text": [
      "Something\n",
      "Something\n",
      "Something\n",
      "Something\n",
      "Something\n",
      "Something\n",
      "Something\n"
     ]
    }
   ],
   "source": [
    "for i in range(7):\n",
    "    print(\"Something\")"
   ]
  },
  {
   "cell_type": "code",
   "execution_count": 12,
   "id": "7d768f27",
   "metadata": {},
   "outputs": [
    {
     "name": "stdout",
     "output_type": "stream",
     "text": [
      "Chandler is not there in the list\n",
      "Chandler is not there in the list\n",
      "Yes Chandler exists in the list\n",
      "Chandler is not there in the list\n",
      "Chandler is not there in the list\n",
      "Chandler is not there in the list\n"
     ]
    }
   ],
   "source": [
    "friends = [\"Rachel\", \"Ross\", \"Chandler\", \"Monica\", \"Joey\", \"Phoebe\"]\n",
    "\n",
    "\n",
    "for friend_name in friends:\n",
    "    if friend_name == \"Chandler\":\n",
    "        print(\"Yes Chandler exists in the list\")\n",
    "    else:\n",
    "        print(\"Chandler is not there in the list\")"
   ]
  },
  {
   "cell_type": "code",
   "execution_count": 16,
   "id": "c5054376",
   "metadata": {},
   "outputs": [
    {
     "ename": "TypeError",
     "evalue": "'NoneType' object is not iterable",
     "output_type": "error",
     "traceback": [
      "\u001b[1;31m---------------------------------------------------------------------------\u001b[0m",
      "\u001b[1;31mTypeError\u001b[0m                                 Traceback (most recent call last)",
      "\u001b[1;32m<ipython-input-16-5bf7498d5687>\u001b[0m in \u001b[0;36m<module>\u001b[1;34m\u001b[0m\n\u001b[0;32m      2\u001b[0m \u001b[1;33m\u001b[0m\u001b[0m\n\u001b[0;32m      3\u001b[0m \u001b[1;33m\u001b[0m\u001b[0m\n\u001b[1;32m----> 4\u001b[1;33m \u001b[1;32mfor\u001b[0m \u001b[0mkey\u001b[0m \u001b[1;32min\u001b[0m \u001b[0mhouse\u001b[0m\u001b[1;33m.\u001b[0m\u001b[0mreverse\u001b[0m\u001b[1;33m(\u001b[0m\u001b[1;33m)\u001b[0m\u001b[1;33m:\u001b[0m\u001b[1;33m\u001b[0m\u001b[1;33m\u001b[0m\u001b[0m\n\u001b[0m\u001b[0;32m      5\u001b[0m     \u001b[1;32mif\u001b[0m \u001b[0mkey\u001b[0m \u001b[1;33m==\u001b[0m \u001b[1;34m\"Kitchen\"\u001b[0m\u001b[1;33m:\u001b[0m\u001b[1;33m\u001b[0m\u001b[1;33m\u001b[0m\u001b[0m\n\u001b[0;32m      6\u001b[0m         \u001b[0mprint\u001b[0m\u001b[1;33m(\u001b[0m\u001b[1;34m\"Yes Key is found now going outside of house\"\u001b[0m\u001b[1;33m)\u001b[0m\u001b[1;33m\u001b[0m\u001b[1;33m\u001b[0m\u001b[0m\n",
      "\u001b[1;31mTypeError\u001b[0m: 'NoneType' object is not iterable"
     ]
    }
   ],
   "source": [
    "house = [\"Hall\", \"Bedroom1\", \"Kitchen\", \"Bedroom2\", \"Bedroom3\", \"Washroom\"]\n",
    "\n",
    "\n",
    "for key in house:\n",
    "    if key == \"Kitchen\":\n",
    "        print(\"Yes Key is found now going outside of house\")\n",
    "        break\n",
    "    else:\n",
    "        print(\"Key is not here\", key)"
   ]
  },
  {
   "cell_type": "code",
   "execution_count": 19,
   "id": "a8377b76",
   "metadata": {},
   "outputs": [
    {
     "name": "stdout",
     "output_type": "stream",
     "text": [
      "i =  7\n",
      "i =  6\n",
      "i =  5\n",
      "i =  4\n",
      "i =  3\n",
      "i =  2\n",
      "i =  1\n",
      "i became 0\n"
     ]
    }
   ],
   "source": [
    "i = 7    # intitialization\n",
    "\n",
    "while i != 0:     #condition\n",
    "    print(\"i = \", i)\n",
    "    i = i - 1\n",
    "    \n",
    "print(\"i became 0\")"
   ]
  },
  {
   "cell_type": "code",
   "execution_count": 22,
   "id": "3b63ab53",
   "metadata": {},
   "outputs": [
    {
     "name": "stdout",
     "output_type": "stream",
     "text": [
      "Player getting attacked\n",
      "Player getting attacked\n",
      "Player getting attacked\n",
      "Player getting attacked\n",
      "Player getting attacked\n",
      "Player getting attacked\n",
      "Player getting attacked\n",
      "Player getting attacked\n",
      "Player getting attacked\n",
      "Player getting attacked\n",
      "Player died\n"
     ]
    }
   ],
   "source": [
    "health = 10    # intitialization\n",
    "\n",
    "while health != 0:     #condition\n",
    "    print(\"Player getting attacked\")\n",
    "    health = health - 1\n",
    "    if health == 0:\n",
    "        print(\"Player died\")\n",
    "    "
   ]
  },
  {
   "cell_type": "code",
   "execution_count": 36,
   "id": "ad297aee",
   "metadata": {},
   "outputs": [
    {
     "data": {
      "text/plain": [
       "7"
      ]
     },
     "execution_count": 36,
     "metadata": {},
     "output_type": "execute_result"
    }
   ],
   "source": [
    "n = 7\n",
    "\n",
    "n"
   ]
  },
  {
   "cell_type": "code",
   "execution_count": 37,
   "id": "0433f1bd",
   "metadata": {},
   "outputs": [
    {
     "name": "stdout",
     "output_type": "stream",
     "text": [
      "Hello  Ramu   kaka\n"
     ]
    }
   ],
   "source": [
    "first_name = \"Ramu\"\n",
    "last_name = \"kaka\"\n",
    "\n",
    "print(\"Hello \", first_name, \" \", last_name)"
   ]
  },
  {
   "cell_type": "code",
   "execution_count": 38,
   "id": "1c3d4981",
   "metadata": {},
   "outputs": [
    {
     "name": "stdout",
     "output_type": "stream",
     "text": [
      "Hello  Ram   Prasad\n"
     ]
    }
   ],
   "source": [
    "first_name = \"Ram\"\n",
    "last_name = \"Prasad\"\n",
    "\n",
    "print(\"Hello \", first_name, \" \", last_name)"
   ]
  },
  {
   "cell_type": "code",
   "execution_count": 42,
   "id": "529f6024",
   "metadata": {},
   "outputs": [],
   "source": [
    "def greet(fn, ln):\n",
    "    print(f\"Hello, {fn} {ln}\")"
   ]
  },
  {
   "cell_type": "code",
   "execution_count": 43,
   "id": "c666b7d9",
   "metadata": {},
   "outputs": [
    {
     "name": "stdout",
     "output_type": "stream",
     "text": [
      "Hello, Rohit Kumar\n"
     ]
    }
   ],
   "source": [
    "greet(\"Rohit\", \"Kumar\")"
   ]
  },
  {
   "cell_type": "code",
   "execution_count": 44,
   "id": "6985e09c",
   "metadata": {},
   "outputs": [
    {
     "name": "stdout",
     "output_type": "stream",
     "text": [
      "Hello, MS Dhoni\n"
     ]
    }
   ],
   "source": [
    "greet(\"MS\", \"Dhoni\")"
   ]
  },
  {
   "cell_type": "code",
   "execution_count": 52,
   "id": "2cfcdcda",
   "metadata": {},
   "outputs": [],
   "source": [
    "def addTwoNumber(n1, n2):\n",
    "    sum = n1 + n2\n",
    "    return n1"
   ]
  },
  {
   "cell_type": "code",
   "execution_count": 53,
   "id": "90174c61",
   "metadata": {},
   "outputs": [],
   "source": [
    "result = addTwoNumber(7,7)"
   ]
  },
  {
   "cell_type": "code",
   "execution_count": 54,
   "id": "afc20fc5",
   "metadata": {},
   "outputs": [
    {
     "name": "stdout",
     "output_type": "stream",
     "text": [
      "7\n"
     ]
    }
   ],
   "source": [
    "print(result)"
   ]
  },
  {
   "cell_type": "code",
   "execution_count": 61,
   "id": "ad2b6f1a",
   "metadata": {},
   "outputs": [],
   "source": [
    "def greet(fn, ln, status='Student'):\n",
    "    print(f\"Hello, {fn} {ln} is a {status}\")"
   ]
  },
  {
   "cell_type": "code",
   "execution_count": 62,
   "id": "d4216b3c",
   "metadata": {},
   "outputs": [
    {
     "name": "stdout",
     "output_type": "stream",
     "text": [
      "Hello, Prakash Ranjan is a Student\n"
     ]
    }
   ],
   "source": [
    "greet('Prakash', 'Ranjan')"
   ]
  },
  {
   "cell_type": "code",
   "execution_count": 63,
   "id": "2e5ba27f",
   "metadata": {},
   "outputs": [
    {
     "name": "stdout",
     "output_type": "stream",
     "text": [
      "Hello, Prateek Gosawi is a Trainer\n"
     ]
    }
   ],
   "source": [
    "greet('Prateek', 'Gosawi', 'Trainer')"
   ]
  },
  {
   "cell_type": "code",
   "execution_count": 67,
   "id": "9fa8ade0",
   "metadata": {},
   "outputs": [],
   "source": [
    "def balance_check(fn, ln, balance=0):\n",
    "    print(f\"Hello, {fn} {ln}, your balance is {balance}\")"
   ]
  },
  {
   "cell_type": "code",
   "execution_count": 70,
   "id": "a602d6d2",
   "metadata": {},
   "outputs": [
    {
     "name": "stdout",
     "output_type": "stream",
     "text": [
      "Hello, Prateek Gosawi, your balance is 0\n"
     ]
    }
   ],
   "source": [
    "balance_check('Prateek', 'Gosawi')"
   ]
  },
  {
   "cell_type": "code",
   "execution_count": 84,
   "id": "c713ebf5",
   "metadata": {},
   "outputs": [],
   "source": [
    "def multiply(*numbers):\n",
    "    total = 1\n",
    "    print(numbers)\n",
    "    for n in numbers:\n",
    "        total *= n\n",
    "    return total"
   ]
  },
  {
   "cell_type": "code",
   "execution_count": 87,
   "id": "b65f9efa",
   "metadata": {},
   "outputs": [
    {
     "name": "stdout",
     "output_type": "stream",
     "text": [
      "(7, 7, 7, 7, 7, 7, 7)\n"
     ]
    },
    {
     "data": {
      "text/plain": [
       "823543"
      ]
     },
     "execution_count": 87,
     "metadata": {},
     "output_type": "execute_result"
    }
   ],
   "source": [
    "multiply(7,7, 7, 7, 7, 7, 7)"
   ]
  },
  {
   "cell_type": "code",
   "execution_count": 94,
   "id": "d94f2213",
   "metadata": {},
   "outputs": [
    {
     "name": "stdout",
     "output_type": "stream",
     "text": [
      "Who is the don of Pune?\n",
      "Big Don\n",
      "Pune ka Don\n"
     ]
    }
   ],
   "source": [
    "big_don = \"Big Don\"\n",
    "\n",
    "def pune():\n",
    "    pune_ka_don = 'Pune ka Don'\n",
    "    print(\"Who is the don of Pune?\")\n",
    "    print(big_don)\n",
    "    return pune_ka_don\n",
    "\n",
    "print(pune())"
   ]
  },
  {
   "cell_type": "code",
   "execution_count": 89,
   "id": "a8fc752d",
   "metadata": {},
   "outputs": [
    {
     "name": "stdout",
     "output_type": "stream",
     "text": [
      "Who is the don here?\n"
     ]
    },
    {
     "ename": "NameError",
     "evalue": "name 'pune_ka_don' is not defined",
     "output_type": "error",
     "traceback": [
      "\u001b[1;31m---------------------------------------------------------------------------\u001b[0m",
      "\u001b[1;31mNameError\u001b[0m                                 Traceback (most recent call last)",
      "\u001b[1;32m<ipython-input-89-c79fcc676e15>\u001b[0m in \u001b[0;36m<module>\u001b[1;34m\u001b[0m\n\u001b[0;32m      3\u001b[0m     \u001b[1;32mreturn\u001b[0m \u001b[0mpune_ka_don\u001b[0m\u001b[1;33m\u001b[0m\u001b[1;33m\u001b[0m\u001b[0m\n\u001b[0;32m      4\u001b[0m \u001b[1;33m\u001b[0m\u001b[0m\n\u001b[1;32m----> 5\u001b[1;33m \u001b[0mprint\u001b[0m\u001b[1;33m(\u001b[0m\u001b[0mmumbai\u001b[0m\u001b[1;33m(\u001b[0m\u001b[1;33m)\u001b[0m\u001b[1;33m)\u001b[0m\u001b[1;33m\u001b[0m\u001b[1;33m\u001b[0m\u001b[0m\n\u001b[0m",
      "\u001b[1;32m<ipython-input-89-c79fcc676e15>\u001b[0m in \u001b[0;36mmumbai\u001b[1;34m()\u001b[0m\n\u001b[0;32m      1\u001b[0m \u001b[1;32mdef\u001b[0m \u001b[0mmumbai\u001b[0m\u001b[1;33m(\u001b[0m\u001b[1;33m)\u001b[0m\u001b[1;33m:\u001b[0m\u001b[1;33m\u001b[0m\u001b[1;33m\u001b[0m\u001b[0m\n\u001b[0;32m      2\u001b[0m     \u001b[0mprint\u001b[0m\u001b[1;33m(\u001b[0m\u001b[1;34m\"Who is the don here?\"\u001b[0m\u001b[1;33m)\u001b[0m\u001b[1;33m\u001b[0m\u001b[1;33m\u001b[0m\u001b[0m\n\u001b[1;32m----> 3\u001b[1;33m     \u001b[1;32mreturn\u001b[0m \u001b[0mpune_ka_don\u001b[0m\u001b[1;33m\u001b[0m\u001b[1;33m\u001b[0m\u001b[0m\n\u001b[0m\u001b[0;32m      4\u001b[0m \u001b[1;33m\u001b[0m\u001b[0m\n\u001b[0;32m      5\u001b[0m \u001b[0mprint\u001b[0m\u001b[1;33m(\u001b[0m\u001b[0mmumbai\u001b[0m\u001b[1;33m(\u001b[0m\u001b[1;33m)\u001b[0m\u001b[1;33m)\u001b[0m\u001b[1;33m\u001b[0m\u001b[1;33m\u001b[0m\u001b[0m\n",
      "\u001b[1;31mNameError\u001b[0m: name 'pune_ka_don' is not defined"
     ]
    }
   ],
   "source": [
    "def mumbai():\n",
    "    print(\"Who is the don here?\")\n",
    "    return pune_ka_don\n",
    "\n",
    "print(mumbai())"
   ]
  },
  {
   "cell_type": "code",
   "execution_count": 97,
   "id": "0db99619",
   "metadata": {},
   "outputs": [
    {
     "name": "stdout",
     "output_type": "stream",
     "text": [
      "<class 'list'>\n",
      "<class 'tuple'>\n"
     ]
    }
   ],
   "source": [
    "li = [1, 2, 3, 4, 5]\n",
    "print(type(li))\n",
    "\n",
    "tu = (1, 2, 3, 4, 5)\n",
    "print(type(tu))"
   ]
  },
  {
   "cell_type": "code",
   "execution_count": 99,
   "id": "88ad5e92",
   "metadata": {},
   "outputs": [
    {
     "name": "stdout",
     "output_type": "stream",
     "text": [
      "<class 'tuple'>\n"
     ]
    }
   ],
   "source": [
    "tuppu = tuple([1,2,3])\n",
    "\n",
    "print(type(tuppu))"
   ]
  },
  {
   "cell_type": "code",
   "execution_count": 101,
   "id": "18a20414",
   "metadata": {},
   "outputs": [
    {
     "data": {
      "text/plain": [
       "(1, 2, 3)"
      ]
     },
     "execution_count": 101,
     "metadata": {},
     "output_type": "execute_result"
    }
   ],
   "source": [
    "tuppu[:]"
   ]
  },
  {
   "cell_type": "code",
   "execution_count": 3,
   "id": "fbb31741",
   "metadata": {},
   "outputs": [
    {
     "ename": "NameError",
     "evalue": "name 'array' is not defined",
     "output_type": "error",
     "traceback": [
      "\u001b[1;31m---------------------------------------------------------------------------\u001b[0m",
      "\u001b[1;31mNameError\u001b[0m                                 Traceback (most recent call last)",
      "\u001b[1;32m<ipython-input-3-d7d70b470e8f>\u001b[0m in \u001b[0;36m<module>\u001b[1;34m\u001b[0m\n\u001b[1;32m----> 1\u001b[1;33m \u001b[0mnum\u001b[0m \u001b[1;33m=\u001b[0m \u001b[0marray\u001b[0m\u001b[1;33m(\u001b[0m\u001b[1;34m'i'\u001b[0m\u001b[1;33m,\u001b[0m \u001b[1;33m[\u001b[0m\u001b[1;36m1\u001b[0m\u001b[1;33m,\u001b[0m\u001b[1;36m2\u001b[0m\u001b[1;33m,\u001b[0m\u001b[1;36m3\u001b[0m\u001b[1;33m]\u001b[0m\u001b[1;33m)\u001b[0m\u001b[1;33m\u001b[0m\u001b[1;33m\u001b[0m\u001b[0m\n\u001b[0m",
      "\u001b[1;31mNameError\u001b[0m: name 'array' is not defined"
     ]
    }
   ],
   "source": [
    "num = array('i', [1,2,3])"
   ]
  },
  {
   "cell_type": "code",
   "execution_count": 4,
   "id": "76728bf9",
   "metadata": {},
   "outputs": [],
   "source": [
    "import array as arr\n",
    "\n",
    "num = arr.array('i', [1,2,3])"
   ]
  },
  {
   "cell_type": "code",
   "execution_count": 5,
   "id": "37af0d9b",
   "metadata": {},
   "outputs": [
    {
     "name": "stdout",
     "output_type": "stream",
     "text": [
      "1\n",
      "2\n",
      "3\n"
     ]
    }
   ],
   "source": [
    "for i in range(0,3):\n",
    "    print(num[i])"
   ]
  },
  {
   "cell_type": "code",
   "execution_count": 7,
   "id": "f7633c30",
   "metadata": {},
   "outputs": [
    {
     "name": "stdout",
     "output_type": "stream",
     "text": [
      "(1, 2, 3, 4, 5)\n"
     ]
    }
   ],
   "source": [
    "tuppu = (1,2,3,4,5)\n",
    "print(tuppu)"
   ]
  },
  {
   "cell_type": "code",
   "execution_count": 9,
   "id": "22a022d1",
   "metadata": {},
   "outputs": [
    {
     "name": "stdout",
     "output_type": "stream",
     "text": [
      "(1, 2, 3, 4, 5, 1, 2, 3, 4, 5)\n"
     ]
    }
   ],
   "source": [
    "new_tuppu = tuppu * 2\n",
    "print(new_tuppu)"
   ]
  },
  {
   "cell_type": "code",
   "execution_count": 10,
   "id": "7b35b8a0",
   "metadata": {},
   "outputs": [
    {
     "name": "stdout",
     "output_type": "stream",
     "text": [
      "(1, 2, 3, 4, 5)\n"
     ]
    }
   ],
   "source": [
    "print(tuppu)"
   ]
  },
  {
   "cell_type": "code",
   "execution_count": 12,
   "id": "4bd80d6b",
   "metadata": {},
   "outputs": [
    {
     "ename": "TypeError",
     "evalue": "'tuple' object does not support item assignment",
     "output_type": "error",
     "traceback": [
      "\u001b[1;31m---------------------------------------------------------------------------\u001b[0m",
      "\u001b[1;31mTypeError\u001b[0m                                 Traceback (most recent call last)",
      "\u001b[1;32m<ipython-input-12-f81457dbc671>\u001b[0m in \u001b[0;36m<module>\u001b[1;34m\u001b[0m\n\u001b[1;32m----> 1\u001b[1;33m \u001b[0mtuppu\u001b[0m\u001b[1;33m[\u001b[0m\u001b[1;36m0\u001b[0m\u001b[1;33m]\u001b[0m \u001b[1;33m=\u001b[0m \u001b[1;36m7\u001b[0m\u001b[1;33m\u001b[0m\u001b[1;33m\u001b[0m\u001b[0m\n\u001b[0m",
      "\u001b[1;31mTypeError\u001b[0m: 'tuple' object does not support item assignment"
     ]
    }
   ],
   "source": [
    "tuppu[0] = 7"
   ]
  },
  {
   "cell_type": "code",
   "execution_count": 13,
   "id": "450fa703",
   "metadata": {},
   "outputs": [],
   "source": [
    "dup_list = [1,1,1,1,2,2,3,3,3,4,4,4,4,5,5,5,5]\n",
    "\n",
    "unique_values = set(dup_list)"
   ]
  },
  {
   "cell_type": "code",
   "execution_count": 14,
   "id": "1dfee8ad",
   "metadata": {},
   "outputs": [
    {
     "name": "stdout",
     "output_type": "stream",
     "text": [
      "{1, 2, 3, 4, 5}\n"
     ]
    }
   ],
   "source": [
    "print(unique_values)"
   ]
  },
  {
   "cell_type": "code",
   "execution_count": 15,
   "id": "8e543dac",
   "metadata": {},
   "outputs": [],
   "source": [
    "num_set = {1,2,3,4,5}"
   ]
  },
  {
   "cell_type": "code",
   "execution_count": 16,
   "id": "7405d12f",
   "metadata": {},
   "outputs": [
    {
     "name": "stdout",
     "output_type": "stream",
     "text": [
      "{1, 2, 3, 4, 5}\n"
     ]
    }
   ],
   "source": [
    "print(num_set)"
   ]
  },
  {
   "cell_type": "code",
   "execution_count": 17,
   "id": "8afd18c5",
   "metadata": {},
   "outputs": [],
   "source": [
    "num_set.add(7)"
   ]
  },
  {
   "cell_type": "code",
   "execution_count": 18,
   "id": "829c953b",
   "metadata": {},
   "outputs": [
    {
     "name": "stdout",
     "output_type": "stream",
     "text": [
      "{1, 2, 3, 4, 5, 7}\n"
     ]
    }
   ],
   "source": [
    "print(num_set)"
   ]
  },
  {
   "cell_type": "code",
   "execution_count": 19,
   "id": "1b817768",
   "metadata": {},
   "outputs": [],
   "source": [
    "num_set.remove(7)"
   ]
  },
  {
   "cell_type": "code",
   "execution_count": 22,
   "id": "c8a478f7",
   "metadata": {},
   "outputs": [
    {
     "name": "stdout",
     "output_type": "stream",
     "text": [
      "5\n"
     ]
    }
   ],
   "source": [
    "print(len(num_set))"
   ]
  },
  {
   "cell_type": "code",
   "execution_count": 21,
   "id": "13228a2d",
   "metadata": {},
   "outputs": [
    {
     "ename": "AttributeError",
     "evalue": "'set' object has no attribute 'append'",
     "output_type": "error",
     "traceback": [
      "\u001b[1;31m---------------------------------------------------------------------------\u001b[0m",
      "\u001b[1;31mAttributeError\u001b[0m                            Traceback (most recent call last)",
      "\u001b[1;32m<ipython-input-21-edff3914ca45>\u001b[0m in \u001b[0;36m<module>\u001b[1;34m\u001b[0m\n\u001b[1;32m----> 1\u001b[1;33m \u001b[0mnum_set\u001b[0m\u001b[1;33m.\u001b[0m\u001b[0mappend\u001b[0m\u001b[1;33m(\u001b[0m\u001b[1;36m7\u001b[0m\u001b[1;33m)\u001b[0m\u001b[1;33m\u001b[0m\u001b[1;33m\u001b[0m\u001b[0m\n\u001b[0m",
      "\u001b[1;31mAttributeError\u001b[0m: 'set' object has no attribute 'append'"
     ]
    }
   ],
   "source": [
    "num_set.append(7)"
   ]
  },
  {
   "cell_type": "code",
   "execution_count": 23,
   "id": "d9de0701",
   "metadata": {},
   "outputs": [],
   "source": [
    "s1 = {1,2,3,4,5}\n",
    "s2 = {4,5,6,7}\n",
    "\n",
    "union_set = s1 | s2"
   ]
  },
  {
   "cell_type": "code",
   "execution_count": 24,
   "id": "d241b000",
   "metadata": {},
   "outputs": [
    {
     "name": "stdout",
     "output_type": "stream",
     "text": [
      "{1, 2, 3, 4, 5, 6, 7}\n"
     ]
    }
   ],
   "source": [
    "print(union_set)"
   ]
  },
  {
   "cell_type": "code",
   "execution_count": 25,
   "id": "98368ef4",
   "metadata": {},
   "outputs": [
    {
     "name": "stdout",
     "output_type": "stream",
     "text": [
      "{4, 5}\n"
     ]
    }
   ],
   "source": [
    "intersection_set = s1 & s2\n",
    "\n",
    "print(intersection_set)"
   ]
  },
  {
   "cell_type": "code",
   "execution_count": 26,
   "id": "e854b859",
   "metadata": {},
   "outputs": [
    {
     "name": "stdout",
     "output_type": "stream",
     "text": [
      "Difference between s1 - s2 {1, 2, 3}\n"
     ]
    }
   ],
   "source": [
    "print(\"Difference between s1 - s2\", s1 - s2)"
   ]
  },
  {
   "cell_type": "code",
   "execution_count": 27,
   "id": "794459d0",
   "metadata": {},
   "outputs": [
    {
     "name": "stdout",
     "output_type": "stream",
     "text": [
      "Difference between s2 - s1 {6, 7}\n"
     ]
    }
   ],
   "source": [
    "print(\"Difference between s2 - s1\", s2 - s1)"
   ]
  },
  {
   "cell_type": "code",
   "execution_count": 28,
   "id": "dab93f39",
   "metadata": {},
   "outputs": [],
   "source": [
    "jersey_num = {'Dhoni' : 7, 'Rohit' : 20}"
   ]
  },
  {
   "cell_type": "code",
   "execution_count": 29,
   "id": "015e1f20",
   "metadata": {},
   "outputs": [
    {
     "name": "stdout",
     "output_type": "stream",
     "text": [
      "<class 'dict'>\n"
     ]
    }
   ],
   "source": [
    "print(type(jersey_num))"
   ]
  },
  {
   "cell_type": "code",
   "execution_count": 30,
   "id": "6da13a0b",
   "metadata": {},
   "outputs": [],
   "source": [
    "jersey_num = dict(Dhoni = 7, Rohit = 20)"
   ]
  },
  {
   "cell_type": "code",
   "execution_count": 32,
   "id": "31fe7ce7",
   "metadata": {},
   "outputs": [
    {
     "name": "stdout",
     "output_type": "stream",
     "text": [
      "<class 'dict'>\n"
     ]
    }
   ],
   "source": [
    "print(type(jersey_num))"
   ]
  },
  {
   "cell_type": "code",
   "execution_count": 33,
   "id": "d9a2cb69",
   "metadata": {},
   "outputs": [
    {
     "name": "stdout",
     "output_type": "stream",
     "text": [
      "7\n"
     ]
    }
   ],
   "source": [
    "print(jersey_num['Dhoni'])"
   ]
  },
  {
   "cell_type": "code",
   "execution_count": 49,
   "id": "5a70c308",
   "metadata": {},
   "outputs": [],
   "source": [
    "jersey_num['Kohli'] = 18"
   ]
  },
  {
   "cell_type": "code",
   "execution_count": 50,
   "id": "2379c859",
   "metadata": {},
   "outputs": [
    {
     "data": {
      "text/plain": [
       "{'Dhoni': 7, 'Rohit': 20, 'Kohli': 18}"
      ]
     },
     "execution_count": 50,
     "metadata": {},
     "output_type": "execute_result"
    }
   ],
   "source": [
    "jersey_num"
   ]
  },
  {
   "cell_type": "code",
   "execution_count": 37,
   "id": "ce06906d",
   "metadata": {},
   "outputs": [
    {
     "ename": "KeyError",
     "evalue": "'Sachin'",
     "output_type": "error",
     "traceback": [
      "\u001b[1;31m---------------------------------------------------------------------------\u001b[0m",
      "\u001b[1;31mKeyError\u001b[0m                                  Traceback (most recent call last)",
      "\u001b[1;32m<ipython-input-37-68f655ad0ed6>\u001b[0m in \u001b[0;36m<module>\u001b[1;34m\u001b[0m\n\u001b[1;32m----> 1\u001b[1;33m \u001b[0mprint\u001b[0m\u001b[1;33m(\u001b[0m\u001b[0mjersey_num\u001b[0m\u001b[1;33m[\u001b[0m\u001b[1;34m'Sachin'\u001b[0m\u001b[1;33m]\u001b[0m\u001b[1;33m)\u001b[0m\u001b[1;33m\u001b[0m\u001b[1;33m\u001b[0m\u001b[0m\n\u001b[0m",
      "\u001b[1;31mKeyError\u001b[0m: 'Sachin'"
     ]
    }
   ],
   "source": [
    "print(jersey_num['Sachin'])"
   ]
  },
  {
   "cell_type": "code",
   "execution_count": 46,
   "id": "f7ddbfae",
   "metadata": {},
   "outputs": [
    {
     "name": "stdout",
     "output_type": "stream",
     "text": [
      "The player is not in team\n"
     ]
    }
   ],
   "source": [
    "print(jersey_num.get('Sachin', 'The player is not in team'))"
   ]
  },
  {
   "cell_type": "code",
   "execution_count": 45,
   "id": "db518559",
   "metadata": {},
   "outputs": [
    {
     "name": "stdout",
     "output_type": "stream",
     "text": [
      "The player is not in team\n"
     ]
    }
   ],
   "source": [
    "if jersey_num.get('Sachin') == None:\n",
    "    print(\"The player is not in team\")\n",
    "else:\n",
    "    print(\"The player is in the team\")"
   ]
  },
  {
   "cell_type": "code",
   "execution_count": 47,
   "id": "c2d85e43",
   "metadata": {},
   "outputs": [],
   "source": [
    "del jersey_num['Kohli']"
   ]
  },
  {
   "cell_type": "code",
   "execution_count": 48,
   "id": "948b02d3",
   "metadata": {},
   "outputs": [
    {
     "data": {
      "text/plain": [
       "{'Dhoni': 7, 'Rohit': 20}"
      ]
     },
     "execution_count": 48,
     "metadata": {},
     "output_type": "execute_result"
    }
   ],
   "source": [
    "jersey_num"
   ]
  },
  {
   "cell_type": "code",
   "execution_count": 52,
   "id": "d503f429",
   "metadata": {},
   "outputs": [
    {
     "name": "stdout",
     "output_type": "stream",
     "text": [
      "Dhoni 7\n",
      "Rohit 20\n",
      "Kohli 18\n"
     ]
    }
   ],
   "source": [
    "for key in jersey_num:\n",
    "    print(key, jersey_num[key])"
   ]
  },
  {
   "cell_type": "code",
   "execution_count": 53,
   "id": "83a97ed7",
   "metadata": {},
   "outputs": [
    {
     "name": "stdout",
     "output_type": "stream",
     "text": [
      "Dhoni 7\n",
      "Rohit 20\n",
      "Kohli 18\n"
     ]
    }
   ],
   "source": [
    "for key, value in jersey_num.items():\n",
    "    print(key, value)"
   ]
  },
  {
   "cell_type": "code",
   "execution_count": 58,
   "id": "f724510c",
   "metadata": {},
   "outputs": [],
   "source": [
    "li = []\n"
   ]
  },
  {
   "cell_type": "code",
   "execution_count": 59,
   "id": "7b4cefa0",
   "metadata": {},
   "outputs": [
    {
     "name": "stdout",
     "output_type": "stream",
     "text": [
      "[]\n"
     ]
    }
   ],
   "source": [
    "print(li)"
   ]
  },
  {
   "cell_type": "code",
   "execution_count": 60,
   "id": "ac8dbafc",
   "metadata": {},
   "outputs": [
    {
     "name": "stdout",
     "output_type": "stream",
     "text": [
      "[0, 1, 2, 3, 4]\n"
     ]
    }
   ],
   "source": [
    "li = [i for i in range(5)]\n",
    "\n",
    "print(li)"
   ]
  },
  {
   "cell_type": "code",
   "execution_count": 61,
   "id": "68d4e905",
   "metadata": {},
   "outputs": [],
   "source": [
    "browser_history = []\n",
    "\n",
    "browser_history.append(\"Google.com\")\n",
    "\n",
    "browser_history.append(\"Linkedin.com\")\n",
    "\n",
    "browser_history.append(\"thesiliconacademy.com\")\n",
    "\n",
    "\n",
    "browser_history.append(\"quora.com\")"
   ]
  },
  {
   "cell_type": "code",
   "execution_count": 62,
   "id": "34059a28",
   "metadata": {},
   "outputs": [
    {
     "name": "stdout",
     "output_type": "stream",
     "text": [
      "quora.com\n"
     ]
    }
   ],
   "source": [
    "    print(browser_history.pop())"
   ]
  },
  {
   "cell_type": "code",
   "execution_count": 63,
   "id": "68efa341",
   "metadata": {},
   "outputs": [
    {
     "name": "stdout",
     "output_type": "stream",
     "text": [
      "thesiliconacademy.com\n"
     ]
    }
   ],
   "source": [
    "print(browser_history.pop())"
   ]
  },
  {
   "cell_type": "code",
   "execution_count": 64,
   "id": "e163965c",
   "metadata": {},
   "outputs": [
    {
     "name": "stdout",
     "output_type": "stream",
     "text": [
      "Linkedin.com\n"
     ]
    }
   ],
   "source": [
    "print(browser_history.pop())"
   ]
  },
  {
   "cell_type": "code",
   "execution_count": 65,
   "id": "2994af86",
   "metadata": {},
   "outputs": [
    {
     "name": "stdout",
     "output_type": "stream",
     "text": [
      "Google.com\n"
     ]
    }
   ],
   "source": [
    "print(browser_history.pop())"
   ]
  },
  {
   "cell_type": "code",
   "execution_count": 66,
   "id": "b4ea80e8",
   "metadata": {},
   "outputs": [],
   "source": [
    "from collections import deque\n",
    "\n",
    "queue = deque([])\n",
    "\n",
    "queue.append(1)\n",
    "\n",
    "queue.append(2)\n",
    "queue.append(3)\n",
    "\n",
    "queue.append(4)\n",
    "queue.append(5)"
   ]
  },
  {
   "cell_type": "code",
   "execution_count": 72,
   "id": "24dba5f0",
   "metadata": {},
   "outputs": [
    {
     "ename": "IndexError",
     "evalue": "pop from an empty deque",
     "output_type": "error",
     "traceback": [
      "\u001b[1;31m---------------------------------------------------------------------------\u001b[0m",
      "\u001b[1;31mIndexError\u001b[0m                                Traceback (most recent call last)",
      "\u001b[1;32m<ipython-input-72-e488fdbdaa60>\u001b[0m in \u001b[0;36m<module>\u001b[1;34m\u001b[0m\n\u001b[1;32m----> 1\u001b[1;33m \u001b[0mqueue\u001b[0m\u001b[1;33m.\u001b[0m\u001b[0mpopleft\u001b[0m\u001b[1;33m(\u001b[0m\u001b[1;33m)\u001b[0m\u001b[1;33m\u001b[0m\u001b[1;33m\u001b[0m\u001b[0m\n\u001b[0m",
      "\u001b[1;31mIndexError\u001b[0m: pop from an empty deque"
     ]
    }
   ],
   "source": [
    "queue.popleft()"
   ]
  },
  {
   "cell_type": "code",
   "execution_count": 83,
   "id": "f0bbb27a",
   "metadata": {},
   "outputs": [],
   "source": [
    "even_number = [i*2 for i in range(20000)]\n"
   ]
  },
  {
   "cell_type": "code",
   "execution_count": 80,
   "id": "9969c0d9",
   "metadata": {},
   "outputs": [
    {
     "name": "stdout",
     "output_type": "stream",
     "text": [
      "[0, 2, 4, 6, 8, 10, 12, 14, 16, 18, 20, 22, 24, 26, 28, 30, 32, 34, 36, 38, 40, 42, 44, 46, 48, 50, 52, 54, 56, 58, 60, 62, 64, 66, 68, 70, 72, 74, 76, 78, 80, 82, 84, 86, 88, 90, 92, 94, 96, 98, 100, 102, 104, 106, 108, 110, 112, 114, 116, 118, 120, 122, 124, 126, 128, 130, 132, 134, 136, 138, 140, 142, 144, 146, 148, 150, 152, 154, 156, 158, 160, 162, 164, 166, 168, 170, 172, 174, 176, 178, 180, 182, 184, 186, 188, 190, 192, 194, 196, 198, 200, 202, 204, 206, 208, 210, 212, 214, 216, 218, 220, 222, 224, 226, 228, 230, 232, 234, 236, 238, 240, 242, 244, 246, 248, 250, 252, 254, 256, 258, 260, 262, 264, 266, 268, 270, 272, 274, 276, 278, 280, 282, 284, 286, 288, 290, 292, 294, 296, 298, 300, 302, 304, 306, 308, 310, 312, 314, 316, 318, 320, 322, 324, 326, 328, 330, 332, 334, 336, 338, 340, 342, 344, 346, 348, 350, 352, 354, 356, 358, 360, 362, 364, 366, 368, 370, 372, 374, 376, 378, 380, 382, 384, 386, 388, 390, 392, 394, 396, 398, 400, 402, 404, 406, 408, 410, 412, 414, 416, 418, 420, 422, 424, 426, 428, 430, 432, 434, 436, 438, 440, 442, 444, 446, 448, 450, 452, 454, 456, 458, 460, 462, 464, 466, 468, 470, 472, 474, 476, 478, 480, 482, 484, 486, 488, 490, 492, 494, 496, 498, 500, 502, 504, 506, 508, 510, 512, 514, 516, 518, 520, 522, 524, 526, 528, 530, 532, 534, 536, 538, 540, 542, 544, 546, 548, 550, 552, 554, 556, 558, 560, 562, 564, 566, 568, 570, 572, 574, 576, 578, 580, 582, 584, 586, 588, 590, 592, 594, 596, 598, 600, 602, 604, 606, 608, 610, 612, 614, 616, 618, 620, 622, 624, 626, 628, 630, 632, 634, 636, 638, 640, 642, 644, 646, 648, 650, 652, 654, 656, 658, 660, 662, 664, 666, 668, 670, 672, 674, 676, 678, 680, 682, 684, 686, 688, 690, 692, 694, 696, 698, 700, 702, 704, 706, 708, 710, 712, 714, 716, 718, 720, 722, 724, 726, 728, 730, 732, 734, 736, 738, 740, 742, 744, 746, 748, 750, 752, 754, 756, 758, 760, 762, 764, 766, 768, 770, 772, 774, 776, 778, 780, 782, 784, 786, 788, 790, 792, 794, 796, 798, 800, 802, 804, 806, 808, 810, 812, 814, 816, 818, 820, 822, 824, 826, 828, 830, 832, 834, 836, 838, 840, 842, 844, 846, 848, 850, 852, 854, 856, 858, 860, 862, 864, 866, 868, 870, 872, 874, 876, 878, 880, 882, 884, 886, 888, 890, 892, 894, 896, 898, 900, 902, 904, 906, 908, 910, 912, 914, 916, 918, 920, 922, 924, 926, 928, 930, 932, 934, 936, 938, 940, 942, 944, 946, 948, 950, 952, 954, 956, 958, 960, 962, 964, 966, 968, 970, 972, 974, 976, 978, 980, 982, 984, 986, 988, 990, 992, 994, 996, 998, 1000, 1002, 1004, 1006, 1008, 1010, 1012, 1014, 1016, 1018, 1020, 1022, 1024, 1026, 1028, 1030, 1032, 1034, 1036, 1038, 1040, 1042, 1044, 1046, 1048, 1050, 1052, 1054, 1056, 1058, 1060, 1062, 1064, 1066, 1068, 1070, 1072, 1074, 1076, 1078, 1080, 1082, 1084, 1086, 1088, 1090, 1092, 1094, 1096, 1098, 1100, 1102, 1104, 1106, 1108, 1110, 1112, 1114, 1116, 1118, 1120, 1122, 1124, 1126, 1128, 1130, 1132, 1134, 1136, 1138, 1140, 1142, 1144, 1146, 1148, 1150, 1152, 1154, 1156, 1158, 1160, 1162, 1164, 1166, 1168, 1170, 1172, 1174, 1176, 1178, 1180, 1182, 1184, 1186, 1188, 1190, 1192, 1194, 1196, 1198, 1200, 1202, 1204, 1206, 1208, 1210, 1212, 1214, 1216, 1218, 1220, 1222, 1224, 1226, 1228, 1230, 1232, 1234, 1236, 1238, 1240, 1242, 1244, 1246, 1248, 1250, 1252, 1254, 1256, 1258, 1260, 1262, 1264, 1266, 1268, 1270, 1272, 1274, 1276, 1278, 1280, 1282, 1284, 1286, 1288, 1290, 1292, 1294, 1296, 1298, 1300, 1302, 1304, 1306, 1308, 1310, 1312, 1314, 1316, 1318, 1320, 1322, 1324, 1326, 1328, 1330, 1332, 1334, 1336, 1338, 1340, 1342, 1344, 1346, 1348, 1350, 1352, 1354, 1356, 1358, 1360, 1362, 1364, 1366, 1368, 1370, 1372, 1374, 1376, 1378, 1380, 1382, 1384, 1386, 1388, 1390, 1392, 1394, 1396, 1398, 1400, 1402, 1404, 1406, 1408, 1410, 1412, 1414, 1416, 1418, 1420, 1422, 1424, 1426, 1428, 1430, 1432, 1434, 1436, 1438, 1440, 1442, 1444, 1446, 1448, 1450, 1452, 1454, 1456, 1458, 1460, 1462, 1464, 1466, 1468, 1470, 1472, 1474, 1476, 1478, 1480, 1482, 1484, 1486, 1488, 1490, 1492, 1494, 1496, 1498, 1500, 1502, 1504, 1506, 1508, 1510, 1512, 1514, 1516, 1518, 1520, 1522, 1524, 1526, 1528, 1530, 1532, 1534, 1536, 1538, 1540, 1542, 1544, 1546, 1548, 1550, 1552, 1554, 1556, 1558, 1560, 1562, 1564, 1566, 1568, 1570, 1572, 1574, 1576, 1578, 1580, 1582, 1584, 1586, 1588, 1590, 1592, 1594, 1596, 1598, 1600, 1602, 1604, 1606, 1608, 1610, 1612, 1614, 1616, 1618, 1620, 1622, 1624, 1626, 1628, 1630, 1632, 1634, 1636, 1638, 1640, 1642, 1644, 1646, 1648, 1650, 1652, 1654, 1656, 1658, 1660, 1662, 1664, 1666, 1668, 1670, 1672, 1674, 1676, 1678, 1680, 1682, 1684, 1686, 1688, 1690, 1692, 1694, 1696, 1698, 1700, 1702, 1704, 1706, 1708, 1710, 1712, 1714, 1716, 1718, 1720, 1722, 1724, 1726, 1728, 1730, 1732, 1734, 1736, 1738, 1740, 1742, 1744, 1746, 1748, 1750, 1752, 1754, 1756, 1758, 1760, 1762, 1764, 1766, 1768, 1770, 1772, 1774, 1776, 1778, 1780, 1782, 1784, 1786, 1788, 1790, 1792, 1794, 1796, 1798, 1800, 1802, 1804, 1806, 1808, 1810, 1812, 1814, 1816, 1818, 1820, 1822, 1824, 1826, 1828, 1830, 1832, 1834, 1836, 1838, 1840, 1842, 1844, 1846, 1848, 1850, 1852, 1854, 1856, 1858, 1860, 1862, 1864, 1866, 1868, 1870, 1872, 1874, 1876, 1878, 1880, 1882, 1884, 1886, 1888, 1890, 1892, 1894, 1896, 1898, 1900, 1902, 1904, 1906, 1908, 1910, 1912, 1914, 1916, 1918, 1920, 1922, 1924, 1926, 1928, 1930, 1932, 1934, 1936, 1938, 1940, 1942, 1944, 1946, 1948, 1950, 1952, 1954, 1956, 1958, 1960, 1962, 1964, 1966, 1968, 1970, 1972, 1974, 1976, 1978, 1980, 1982, 1984, 1986, 1988, 1990, 1992, 1994, 1996, 1998, 2000, 2002, 2004, 2006, 2008, 2010, 2012, 2014, 2016, 2018, 2020, 2022, 2024, 2026, 2028, 2030, 2032, 2034, 2036, 2038, 2040, 2042, 2044, 2046, 2048, 2050, 2052, 2054, 2056, 2058, 2060, 2062, 2064, 2066, 2068, 2070, 2072, 2074, 2076, 2078, 2080, 2082, 2084, 2086, 2088, 2090, 2092, 2094, 2096, 2098, 2100, 2102, 2104, 2106, 2108, 2110, 2112, 2114, 2116, 2118, 2120, 2122, 2124, 2126, 2128, 2130, 2132, 2134, 2136, 2138, 2140, 2142, 2144, 2146, 2148, 2150, 2152, 2154, 2156, 2158, 2160, 2162, 2164, 2166, 2168, 2170, 2172, 2174, 2176, 2178, 2180, 2182, 2184, 2186, 2188, 2190, 2192, 2194, 2196, 2198, 2200, 2202, 2204, 2206, 2208, 2210, 2212, 2214, 2216, 2218, 2220, 2222, 2224, 2226, 2228, 2230, 2232, 2234, 2236, 2238, 2240, 2242, 2244, 2246, 2248, 2250, 2252, 2254, 2256, 2258, 2260, 2262, 2264, 2266, 2268, 2270, 2272, 2274, 2276, 2278, 2280, 2282, 2284, 2286, 2288, 2290, 2292, 2294, 2296, 2298, 2300, 2302, 2304, 2306, 2308, 2310, 2312, 2314, 2316, 2318, 2320, 2322, 2324, 2326, 2328, 2330, 2332, 2334, 2336, 2338, 2340, 2342, 2344, 2346, 2348, 2350, 2352, 2354, 2356, 2358, 2360, 2362, 2364, 2366, 2368, 2370, 2372, 2374, 2376, 2378, 2380, 2382, 2384, 2386, 2388, 2390, 2392, 2394, 2396, 2398, 2400, 2402, 2404, 2406, 2408, 2410, 2412, 2414, 2416, 2418, 2420, 2422, 2424, 2426, 2428, 2430, 2432, 2434, 2436, 2438, 2440, 2442, 2444, 2446, 2448, 2450, 2452, 2454, 2456, 2458, 2460, 2462, 2464, 2466, 2468, 2470, 2472, 2474, 2476, 2478, 2480, 2482, 2484, 2486, 2488, 2490, 2492, 2494, 2496, 2498, 2500, 2502, 2504, 2506, 2508, 2510, 2512, 2514, 2516, 2518, 2520, 2522, 2524, 2526, 2528, 2530, 2532, 2534, 2536, 2538, 2540, 2542, 2544, 2546, 2548, 2550, 2552, 2554, 2556, 2558, 2560, 2562, 2564, 2566, 2568, 2570, 2572, 2574, 2576, 2578, 2580, 2582, 2584, 2586, 2588, 2590, 2592, 2594, 2596, 2598, 2600, 2602, 2604, 2606, 2608, 2610, 2612, 2614, 2616, 2618, 2620, 2622, 2624, 2626, 2628, 2630, 2632, 2634, 2636, 2638, 2640, 2642, 2644, 2646, 2648, 2650, 2652, 2654, 2656, 2658, 2660, 2662, 2664, 2666, 2668, 2670, 2672, 2674, 2676, 2678, 2680, 2682, 2684, 2686, 2688, 2690, 2692, 2694, 2696, 2698, 2700, 2702, 2704, 2706, 2708, 2710, 2712, 2714, 2716, 2718, 2720, 2722, 2724, 2726, 2728, 2730, 2732, 2734, 2736, 2738, 2740, 2742, 2744, 2746, 2748, 2750, 2752, 2754, 2756, 2758, 2760, 2762, 2764, 2766, 2768, 2770, 2772, 2774, 2776, 2778, 2780, 2782, 2784, 2786, 2788, 2790, 2792, 2794, 2796, 2798, 2800, 2802, 2804, 2806, 2808, 2810, 2812, 2814, 2816, 2818, 2820, 2822, 2824, 2826, 2828, 2830, 2832, 2834, 2836, 2838, 2840, 2842, 2844, 2846, 2848, 2850, 2852, 2854, 2856, 2858, 2860, 2862, 2864, 2866, 2868, 2870, 2872, 2874, 2876, 2878, 2880, 2882, 2884, 2886, 2888, 2890, 2892, 2894, 2896, 2898, 2900, 2902, 2904, 2906, 2908, 2910, 2912, 2914, 2916, 2918, 2920, 2922, 2924, 2926, 2928, 2930, 2932, 2934, 2936, 2938, 2940, 2942, 2944, 2946, 2948, 2950, 2952, 2954, 2956, 2958, 2960, 2962, 2964, 2966, 2968, 2970, 2972, 2974, 2976, 2978, 2980, 2982, 2984, 2986, 2988, 2990, 2992, 2994, 2996, 2998, 3000, 3002, 3004, 3006, 3008, 3010, 3012, 3014, 3016, 3018, 3020, 3022, 3024, 3026, 3028, 3030, 3032, 3034, 3036, 3038, 3040, 3042, 3044, 3046, 3048, 3050, 3052, 3054, 3056, 3058, 3060, 3062, 3064, 3066, 3068, 3070, 3072, 3074, 3076, 3078, 3080, 3082, 3084, 3086, 3088, 3090, 3092, 3094, 3096, 3098, 3100, 3102, 3104, 3106, 3108, 3110, 3112, 3114, 3116, 3118, 3120, 3122, 3124, 3126, 3128, 3130, 3132, 3134, 3136, 3138, 3140, 3142, 3144, 3146, 3148, 3150, 3152, 3154, 3156, 3158, 3160, 3162, 3164, 3166, 3168, 3170, 3172, 3174, 3176, 3178, 3180, 3182, 3184, 3186, 3188, 3190, 3192, 3194, 3196, 3198, 3200, 3202, 3204, 3206, 3208, 3210, 3212, 3214, 3216, 3218, 3220, 3222, 3224, 3226, 3228, 3230, 3232, 3234, 3236, 3238, 3240, 3242, 3244, 3246, 3248, 3250, 3252, 3254, 3256, 3258, 3260, 3262, 3264, 3266, 3268, 3270, 3272, 3274, 3276, 3278, 3280, 3282, 3284, 3286, 3288, 3290, 3292, 3294, 3296, 3298, 3300, 3302, 3304, 3306, 3308, 3310, 3312, 3314, 3316, 3318, 3320, 3322, 3324, 3326, 3328, 3330, 3332, 3334, 3336, 3338, 3340, 3342, 3344, 3346, 3348, 3350, 3352, 3354, 3356, 3358, 3360, 3362, 3364, 3366, 3368, 3370, 3372, 3374, 3376, 3378, 3380, 3382, 3384, 3386, 3388, 3390, 3392, 3394, 3396, 3398, 3400, 3402, 3404, 3406, 3408, 3410, 3412, 3414, 3416, 3418, 3420, 3422, 3424, 3426, 3428, 3430, 3432, 3434, 3436, 3438, 3440, 3442, 3444, 3446, 3448, 3450, 3452, 3454, 3456, 3458, 3460, 3462, 3464, 3466, 3468, 3470, 3472, 3474, 3476, 3478, 3480, 3482, 3484, 3486, 3488, 3490, 3492, 3494, 3496, 3498, 3500, 3502, 3504, 3506, 3508, 3510, 3512, 3514, 3516, 3518, 3520, 3522, 3524, 3526, 3528, 3530, 3532, 3534, 3536, 3538, 3540, 3542, 3544, 3546, 3548, 3550, 3552, 3554, 3556, 3558, 3560, 3562, 3564, 3566, 3568, 3570, 3572, 3574, 3576, 3578, 3580, 3582, 3584, 3586, 3588, 3590, 3592, 3594, 3596, 3598, 3600, 3602, 3604, 3606, 3608, 3610, 3612, 3614, 3616, 3618, 3620, 3622, 3624, 3626, 3628, 3630, 3632, 3634, 3636, 3638, 3640, 3642, 3644, 3646, 3648, 3650, 3652, 3654, 3656, 3658, 3660, 3662, 3664, 3666, 3668, 3670, 3672, 3674, 3676, 3678, 3680, 3682, 3684, 3686, 3688, 3690, 3692, 3694, 3696, 3698, 3700, 3702, 3704, 3706, 3708, 3710, 3712, 3714, 3716, 3718, 3720, 3722, 3724, 3726, 3728, 3730, 3732, 3734, 3736, 3738, 3740, 3742, 3744, 3746, 3748, 3750, 3752, 3754, 3756, 3758, 3760, 3762, 3764, 3766, 3768, 3770, 3772, 3774, 3776, 3778, 3780, 3782, 3784, 3786, 3788, 3790, 3792, 3794, 3796, 3798, 3800, 3802, 3804, 3806, 3808, 3810, 3812, 3814, 3816, 3818, 3820, 3822, 3824, 3826, 3828, 3830, 3832, 3834, 3836, 3838, 3840, 3842, 3844, 3846, 3848, 3850, 3852, 3854, 3856, 3858, 3860, 3862, 3864, 3866, 3868, 3870, 3872, 3874, 3876, 3878, 3880, 3882, 3884, 3886, 3888, 3890, 3892, 3894, 3896, 3898, 3900, 3902, 3904, 3906, 3908, 3910, 3912, 3914, 3916, 3918, 3920, 3922, 3924, 3926, 3928, 3930, 3932, 3934, 3936, 3938, 3940, 3942, 3944, 3946, 3948, 3950, 3952, 3954, 3956, 3958, 3960, 3962, 3964, 3966, 3968, 3970, 3972, 3974, 3976, 3978, 3980, 3982, 3984, 3986, 3988, 3990, 3992, 3994, 3996, 3998]\n"
     ]
    }
   ],
   "source": [
    "print(even_number)"
   ]
  },
  {
   "cell_type": "code",
   "execution_count": 84,
   "id": "ac59b7ac",
   "metadata": {},
   "outputs": [
    {
     "name": "stdout",
     "output_type": "stream",
     "text": [
      "Size of list is:  178016\n",
      "Size of generator is:  112\n"
     ]
    }
   ],
   "source": [
    "from sys import getsizeof\n",
    "\n",
    "even_list = [i*2 for i in range(20000)]\n",
    "\n",
    "even_generator = (i*2 for i in range(20000))\n",
    "\n",
    "print(\"Size of list is: \", getsizeof(even_list))\n",
    "\n",
    "print(\"Size of generator is: \", getsizeof(even_generator))"
   ]
  },
  {
   "cell_type": "code",
   "execution_count": 85,
   "id": "01e13242",
   "metadata": {},
   "outputs": [
    {
     "name": "stdout",
     "output_type": "stream",
     "text": [
      "[1, 2, 3, 4, 5]\n"
     ]
    }
   ],
   "source": [
    "num = [1,2,3,4,5]\n",
    "\n",
    "print(num)"
   ]
  },
  {
   "cell_type": "code",
   "execution_count": 86,
   "id": "0dceb9dc",
   "metadata": {},
   "outputs": [
    {
     "name": "stdout",
     "output_type": "stream",
     "text": [
      "1 2 3 4 5\n"
     ]
    }
   ],
   "source": [
    "print(*num)"
   ]
  },
  {
   "cell_type": "code",
   "execution_count": 91,
   "id": "2d51d102",
   "metadata": {},
   "outputs": [
    {
     "name": "stdout",
     "output_type": "stream",
     "text": [
      "[0, 1, 2, 3, 4, 5, 6, 7, 8, 9]\n"
     ]
    }
   ],
   "source": [
    "unpackRange = [*range(10)]\n",
    "\n",
    "print(unpackRange)"
   ]
  },
  {
   "cell_type": "code",
   "execution_count": 92,
   "id": "39d03076",
   "metadata": {},
   "outputs": [
    {
     "name": "stdout",
     "output_type": "stream",
     "text": [
      "['P', 'r', 'a', 't', 'i', 'k']\n"
     ]
    }
   ],
   "source": [
    "unpackString = [*'Pratik']\n",
    "\n",
    "print(unpackString)"
   ]
  },
  {
   "cell_type": "code",
   "execution_count": null,
   "id": "2fc094f8",
   "metadata": {},
   "outputs": [],
   "source": []
  }
 ],
 "metadata": {
  "kernelspec": {
   "display_name": "Python 3",
   "language": "python",
   "name": "python3"
  },
  "language_info": {
   "codemirror_mode": {
    "name": "ipython",
    "version": 3
   },
   "file_extension": ".py",
   "mimetype": "text/x-python",
   "name": "python",
   "nbconvert_exporter": "python",
   "pygments_lexer": "ipython3",
   "version": "3.8.8"
  }
 },
 "nbformat": 4,
 "nbformat_minor": 5
}
